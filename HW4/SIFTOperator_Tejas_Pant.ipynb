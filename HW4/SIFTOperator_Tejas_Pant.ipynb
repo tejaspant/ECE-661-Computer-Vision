{
 "cells": [
  {
   "cell_type": "markdown",
   "metadata": {},
   "source": [
    "## SIFT Operator with Brute-Force Matcher to Extract Interest Points\n",
    "Tejas Pant <br>\n",
    "24th September 2018"
   ]
  },
  {
   "cell_type": "code",
   "execution_count": 1,
   "metadata": {},
   "outputs": [],
   "source": [
    "import matplotlib.image as mpimg\n",
    "import matplotlib.pyplot as plt\n",
    "import numpy as np\n",
    "import cv2\n",
    "import glob\n",
    "import os\n",
    "import math\n",
    "\n",
    "\n",
    "image1=cv2.imread(\"../HW4Pics/pair2_resized/truck1.jpg\")\n",
    "image2=cv2.imread(\"../HW4Pics/pair2_resized/truck2.jpg\")\n",
    "\n",
    "\n",
    "'''\n",
    "image1=cv2.imread(\"../HW4Pics_mine/3.jpg\")\n",
    "image2=cv2.imread(\"../HW4Pics_mine/4.jpg\")\n",
    "'''\n",
    "\n",
    "#Convert to grayscale images\n",
    "image1_gray=cv2.cvtColor(image1,cv2.COLOR_BGR2GRAY)\n",
    "image2_gray=cv2.cvtColor(image2,cv2.COLOR_BGR2GRAY)"
   ]
  },
  {
   "cell_type": "code",
   "execution_count": 4,
   "metadata": {},
   "outputs": [],
   "source": [
    "def SIFTDetectInterestPoints(img_gray):\n",
    "    sift = cv2.xfeatures2d.SIFT_create(nfeatures=5000,nOctaveLayers=5,contrastThreshold=0.1,edgeThreshold=10,sigma=2.6)\n",
    "    kp, des = sift.detectAndCompute(img_gray,None)\n",
    "    return kp, des\n",
    "\n",
    "def BruteForceMatcher(des1, des2):\n",
    "    #Intialize the Brute-Force Matcher\n",
    "    bf = cv2.BFMatcher()\n",
    "    \n",
    "    #Get the Best 2 matches corresponding to each interest point\n",
    "    matches = bf.knnMatch(des1,des2,k=2) \n",
    "    \n",
    "    #List of good matches\n",
    "    good_matches = [] \n",
    "    \n",
    "    #Calculate Distance Ratio of Matches, from Lowe SIFT Paper\n",
    "    for match1, match2 in matches:\n",
    "        if match1.distance < 0.8 * match2.distance:\n",
    "            good_matches.append([match1])\n",
    "        \n",
    "    return good_matches\n",
    "\n",
    "def drawCombinedImage(matches,img1,img2,kp1,kp2):\n",
    "    combined_image = cv2.drawMatchesKnn(img1,kp1,img2,kp2,matches,None,flags=2)\n",
    "    return combined_image"
   ]
  },
  {
   "cell_type": "code",
   "execution_count": 5,
   "metadata": {},
   "outputs": [
    {
     "data": {
      "text/plain": [
       "True"
      ]
     },
     "execution_count": 5,
     "metadata": {},
     "output_type": "execute_result"
    }
   ],
   "source": [
    "#Get interest points and descriptor for first image of pair\n",
    "ip1, descp1 = SIFTDetectInterestPoints(image1_gray)\n",
    "\n",
    "#Get interest points and descriptor for second image of pair\n",
    "ip2, descp2 = SIFTDetectInterestPoints(image2_gray)\n",
    "\n",
    "#Establish correspondence using Brute Force Method\n",
    "ip_matches = BruteForceMatcher(descp1, descp2)\n",
    "\n",
    "#Draw combined image\n",
    "out_img = drawCombinedImage(ip_matches,image1,image2,ip1,ip2)\n",
    "\n",
    "#Write image\n",
    "cv2.imwrite('sift_output_pair.jpg',out_img)"
   ]
  }
 ],
 "metadata": {
  "kernelspec": {
   "display_name": "Python 3",
   "language": "python",
   "name": "python3"
  },
  "language_info": {
   "codemirror_mode": {
    "name": "ipython",
    "version": 3
   },
   "file_extension": ".py",
   "mimetype": "text/x-python",
   "name": "python",
   "nbconvert_exporter": "python",
   "pygments_lexer": "ipython3",
   "version": "3.5.2"
  },
  "widgets": {
   "state": {},
   "version": "1.1.2"
  }
 },
 "nbformat": 4,
 "nbformat_minor": 2
}
