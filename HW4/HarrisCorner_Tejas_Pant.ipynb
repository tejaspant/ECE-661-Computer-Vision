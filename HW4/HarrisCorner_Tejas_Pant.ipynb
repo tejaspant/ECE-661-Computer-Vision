{
 "cells": [
  {
   "cell_type": "markdown",
   "metadata": {},
   "source": [
    "## Harris Corner Detector with Sum of Squared Differences (SSD) and Normalized Cross Correlation (NCC) measurement metric\n",
    "Tejas Pant <br>\n",
    "26th September 2018"
   ]
  },
  {
   "cell_type": "code",
   "execution_count": 5,
   "metadata": {
    "collapsed": true
   },
   "outputs": [],
   "source": [
    "import matplotlib.image as mpimg\n",
    "import matplotlib.pyplot as plt\n",
    "import numpy as np\n",
    "import cv2\n",
    "import glob\n",
    "import os\n",
    "import math\n",
    "\n",
    "#Pair 1\n",
    "image1=cv2.imread(\"../HW4Pics/pair1/1.jpg\")\n",
    "image2=cv2.imread(\"../HW4Pics/pair1/2.jpg\")\n",
    "\n",
    "'''\n",
    "#Pair 2\n",
    "image1=cv2.imread(\"../HW4Pics/pair2_resized/truck1.jpg\")\n",
    "image2=cv2.imread(\"../HW4Pics/pair2_resized/truck2.jpg\")\n",
    "'''\n",
    "\n",
    "#Convert to grayscale images\n",
    "image1_gray=cv2.cvtColor(image1,cv2.COLOR_BGR2GRAY)\n",
    "image2_gray=cv2.cvtColor(image2,cv2.COLOR_BGR2GRAY)"
   ]
  },
  {
   "cell_type": "code",
   "execution_count": 6,
   "metadata": {
    "collapsed": true
   },
   "outputs": [],
   "source": [
    "#Identify the Harris Corners from a single image\n",
    "def HarrisCornerDetector(image,sigma_harris,k_harris):\n",
    "    #Determine size of Haar Wavelet Filter\n",
    "    haar_wav_size =int(math.ceil(math.ceil(4 * sigma_harris)/2)*2) #Greatest even integer greater than 4*sigma\n",
    "    \n",
    "    #Generate the Haar Wavelet Filters\n",
    "    haar_wavX = np.concatenate((-np.ones((haar_wav_size,int(haar_wav_size/2))), np.ones((haar_wav_size,int(haar_wav_size/2)))),axis=1)\n",
    "    haar_wavY = np.concatenate((np.ones((int(haar_wav_size/2),haar_wav_size)), -np.ones((int(haar_wav_size/2),haar_wav_size))),axis=0)\n",
    "\n",
    "    #Filtered image after applying the Haar Operator in X and Y direction to get the gradients\n",
    "    dx = cv2.filter2D(image,-1,haar_wavX) \n",
    "    dy = cv2.filter2D(image,-1,haar_wavY)\n",
    "    \n",
    "    #Initialize the Corner Detector Response Matrix C\n",
    "    CorDetectResp = np.zeros(image.shape) \n",
    "    \n",
    "    #Determine size of matrix for calculating values of the Corner Detector Response at every pixel in the image\n",
    "    # Here we use the greatest odd integer greater than 5*sigma\n",
    "    CHarris_size = int(math.ceil(math.ceil(5 * sigma_harris)/2)*2)+1 \n",
    "    CHarris_size_half = int((CHarris_size - 1)/2)\n",
    "    \n",
    "    for i in range(CHarris_size_half, image.shape[0]-CHarris_size_half): #move along rows, Y direction\n",
    "        for j in range(CHarris_size_half, image.shape[1]-CHarris_size_half): #move along columns, X direction\n",
    "            dxij_ = dx[i-CHarris_size_half:i+CHarris_size_half+1, j-CHarris_size_half:j+CHarris_size_half+1]\n",
    "            dyij_ = dy[i-CHarris_size_half:i+CHarris_size_half+1, j-CHarris_size_half:j+CHarris_size_half+1]\n",
    "            Cres = np.zeros((2,2))\n",
    "            Cres[0,0] = np.sum(np.square(dxij_))\n",
    "            Cres[1,1] = np.sum(np.square(dyij_))\n",
    "            Cres[0,1] = np.sum(np.multiply(dxij_,dyij_))\n",
    "            Cres[1,0] = Cres[0,1]\n",
    "            det_Cres = np.linalg.det(Cres)\n",
    "            tr_Cres = np.trace(Cres);\n",
    "            CorDetectResp[i,j] = det_Cres - k_harris * (tr_Cres**2)\n",
    "    \n",
    "    #Thresholding out pixels with small or negative values of Harris Corner Detector\n",
    "    th_size = 29 #window size for thresholding the corner response value\n",
    "    th_size_half = int((th_size - 1)/2) \n",
    "    corners=[]\n",
    "    Cor_loc = np.zeros(image.shape)\n",
    "    \n",
    "    for i in range(th_size_half, image.shape[0]-th_size_half):\n",
    "        for j in range(th_size_half, image.shape[1]-th_size_half):\n",
    "            CHarris_sub = CorDetectResp[i-th_size_half:i+th_size_half+1,j-th_size_half:j+th_size_half+1]\n",
    "            if CorDetectResp[i,j] == np.max(CHarris_sub) and CorDetectResp[i,j] > 0 and abs(CorDetectResp[i,j]) > np.mean(abs(CorDetectResp)):\n",
    "                corners.append([i,j])\n",
    "    return corners\n",
    "\n",
    "#SSD Measurement Metric to establish correspondence between Interest Points\n",
    "def SSD(image1,image2,cor1,cor2,ssd_win_size,ratio_global_local_min,thresh_ssd):\n",
    "    ssd_winh = int((ssd_win_size-1)/2)\n",
    "    ncor1 = len(cor1)\n",
    "    ncor2 = len(cor2)\n",
    "    int_pts=[] #interest points list\n",
    "    \n",
    "    #Calculate the SSD matrix for the sets of corners\n",
    "    SSD_mat = np.zeros((ncor1,ncor2))\n",
    "    \n",
    "    for i in range(0,ncor1):\n",
    "        for j in range(0,ncor2):\n",
    "            img1ij_ = image1[cor1[i,0]-ssd_winh:cor1[i,0]+ssd_winh+1, cor1[i,1]-ssd_winh:cor1[i,1]+ssd_winh+1]\n",
    "            img2ij_ = image2[cor2[j,0]-ssd_winh:cor2[j,0]+ssd_winh+1, cor2[j,1]-ssd_winh:cor2[j,1]+ssd_winh+1]\n",
    "            diff = np.subtract(img1ij_,img2ij_)\n",
    "            SSD_mat[i,j] = np.sum(np.square(diff))\n",
    "    \n",
    "\n",
    "    #Identify the corresponding corner points in the two images by thresholding \n",
    "    for i in range(0,ncor1):\n",
    "        for j in range(0,ncor2):\n",
    "            if SSD_mat[i,j]==np.min(SSD_mat[i,:]) and SSD_mat[i,j] < thresh_ssd * np.mean(SSD_mat[:,:]):\n",
    "                min_local_value = SSD_mat[i,j]\n",
    "                SSD_mat[i,j] = np.max(SSD_mat[i,:])\n",
    "                if min_local_value / np.min(SSD_mat[i,:]) < ratio_global_local_min:\n",
    "                    SSD_mat[:,j] = np.max(SSD_mat)\n",
    "                    SSD_mat[i,j] = min_local_value\n",
    "                    int_pts.append([cor1[i,0],cor1[i,1],cor2[j,0],cor2[j,1]])\n",
    "    \n",
    "    return np.asarray(int_pts)\n",
    "\n",
    "#NCC Measurement Metric to establish correspondence between Interest Points\n",
    "def NCC(image1,image2,cor1,cor2,ncc_win_size,thresh_ncc):\n",
    "    ncc_winh = int((ncc_win_size-1)/2)\n",
    "    ncor1 = len(cor1)\n",
    "    ncor2 = len(cor2)\n",
    "    int_pts=[] #interest points list\n",
    "    \n",
    "    #Calculate the NCC matrix for the sets of corners\n",
    "    NCC_mat = np.zeros((ncor1,ncor2))\n",
    "    \n",
    "    for i in range(0,ncor1):\n",
    "        for j in range(0,ncor2):\n",
    "            img1ij_ = image1[cor1[i,0]-ncc_winh:cor1[i,0]+ncc_winh+1, cor1[i,1]-ncc_winh:cor1[i,1]+ncc_winh+1]\n",
    "            img2ij_ = image2[cor2[j,0]-ncc_winh:cor2[j,0]+ncc_winh+1, cor2[j,1]-ncc_winh:cor2[j,1]+ncc_winh+1]\n",
    "            mu1 = np.mean(img1ij_) \n",
    "            mu2 = np.mean(img2ij_)\n",
    "            stddev1 = np.subtract(img1ij_,mu1)\n",
    "            stddev2 = np.subtract(img2ij_,mu2)\n",
    "            ncc_num = np.sum(np.multiply(stddev1,stddev2))\n",
    "            var1 = np.sum(np.square(stddev1))\n",
    "            var2 = np.sum(np.square(stddev2))\n",
    "            ncc_den = np.sqrt(var1*var2)\n",
    "            NCC_mat[i,j] = ncc_num/ncc_den\n",
    "\n",
    "    #Identify the corresponding corner points in the two images by thresholding \n",
    "    for i in range(0,ncor1):\n",
    "        for j in range(0,ncor2):\n",
    "            if NCC_mat[i,j]==np.max(NCC_mat[i,:]) and NCC_mat[i,j]>thresh_ncc:\n",
    "                int_pts.append([cor1[i,0],cor1[i,1],cor2[j,0],cor2[j,1]])\n",
    "\n",
    "    return np.asarray(int_pts)\n",
    "\n",
    "#Display combined image of the pair of images with interest points and correspondences\n",
    "def displayImagewithInterestPoints(img1,img2,corners):\n",
    "    #Get shape of the output image\n",
    "    nrows = max(img1.shape[0], img2.shape[0])\n",
    "    ncol = img1.shape[1]+img2.shape[1]\n",
    "    \n",
    "    #Initialize combined output image\n",
    "    out_img = np.zeros((nrows,ncol,3))\n",
    "    \n",
    "    #Copy Image 1 to left half of the output image\n",
    "    out_img[:img1.shape[0], :img1.shape[1]] = img1\n",
    "    \n",
    "    #Copy Image 2 to right half of the output image\n",
    "    out_img[:img2.shape[0], img1.shape[1]:img1.shape[1]+img2.shape[1]] = img2\n",
    "\n",
    "    for xy in corners:\n",
    "        cv2.circle(out_img,(xy[1], xy[0]),4,(0,0,0),2) #interest points from Image 1\n",
    "        cv2.circle(out_img,(img1.shape[1]+xy[3],xy[2]),4,(0,0,0),2) #Interest points form Image 2\n",
    "        cv2.line(out_img,(xy[1],xy[0]),(img1.shape[1]+xy[3],xy[2]), (0,255,0)) #Lines joining interest points\n",
    "    return out_img"
   ]
  },
  {
   "cell_type": "code",
   "execution_count": 7,
   "metadata": {},
   "outputs": [
    {
     "name": "stderr",
     "output_type": "stream",
     "text": [
      "C:\\ProgramData\\Anaconda3\\lib\\site-packages\\numpy\\linalg\\linalg.py:1821: RuntimeWarning: invalid value encountered in det\n",
      "  r = _umath_linalg.det(a, signature=signature)\n"
     ]
    },
    {
     "name": "stdout",
     "output_type": "stream",
     "text": [
      "Number of Corners Detected in Image 1 =  104\n",
      "Number of Corners Detected in Image 2 =  119\n"
     ]
    }
   ],
   "source": [
    "#For Harris Detector\n",
    "sigma_harris = 1.4\n",
    "k_harris = 0.04\n",
    "\n",
    "corner_image1 = HarrisCornerDetector(image1_gray,sigma_harris,k_harris)\n",
    "corner_image2 = HarrisCornerDetector(image2_gray,sigma_harris,k_harris)\n",
    "\n",
    "print(\"Number of Corners Detected in Image 1 = \", len(corner_image1))\n",
    "print(\"Number of Corners Detected in Image 2 = \", len(corner_image2))"
   ]
  },
  {
   "cell_type": "code",
   "execution_count": 4,
   "metadata": {},
   "outputs": [
    {
     "data": {
      "text/plain": [
       "True"
      ]
     },
     "execution_count": 4,
     "metadata": {},
     "output_type": "execute_result"
    }
   ],
   "source": [
    "#For SSD\n",
    "ssd_ratio = 0.7 #ratio of local minima of mathces\n",
    "thresh_ssd = 4.5 #threshold for mean\n",
    "win_size_ssd = 25 # win_size_ssd x win_size_ssd, window size for examining ssd metric\n",
    "\n",
    "corner_image1 = np.array(corner_image1)\n",
    "corner_image2 = np.array(corner_image2)\n",
    "\n",
    "Cord_SSD = SSD(image1_gray,image2_gray,corner_image1,corner_image2,win_size_ssd,ssd_ratio,thresh_ssd)\n",
    "out_image_ssd = displayImagewithInterestPoints(image1,image2,Cord_SSD)\n",
    "cv2.imwrite('HarrisSSD.jpg',out_image_ssd)\n",
    "\n",
    "#For NCC\n",
    "thresh_ncc = 0.8 #NCC threhold value. Values smaller than thresh_ncc are neglected\n",
    "win_size_ncc = 25 #win_size_ncc x win_size_ncc, window size for examining ssd metric\n",
    "\n",
    "Cord_NCC = NCC(image1_gray,image2_gray,corner_image1,corner_image2,win_size_ncc,thresh_ncc)\n",
    "out_image_NCC = displayImagewithInterestPoints(image1,image2,Cord_NCC)\n",
    "cv2.imwrite('HarrisNCC.jpg',out_image_NCC)"
   ]
  }
 ],
 "metadata": {
  "kernelspec": {
   "display_name": "Python 3",
   "language": "python",
   "name": "python3"
  },
  "language_info": {
   "codemirror_mode": {
    "name": "ipython",
    "version": 3
   },
   "file_extension": ".py",
   "mimetype": "text/x-python",
   "name": "python",
   "nbconvert_exporter": "python",
   "pygments_lexer": "ipython3",
   "version": "3.6.1"
  }
 },
 "nbformat": 4,
 "nbformat_minor": 2
}
